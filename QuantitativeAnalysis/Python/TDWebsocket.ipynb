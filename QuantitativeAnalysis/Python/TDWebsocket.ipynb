{
 "cells": [
  {
   "cell_type": "code",
   "execution_count": 1,
   "metadata": {},
   "outputs": [],
   "source": [
    "import sys\n",
    "import urllib\n",
    "import json\n",
    "import requests\n",
    "import time\n",
    "import dateutil.parser\n",
    "from datetime import datetime\n",
    "# from TDAmeritradeStream import TDAuthentication\n",
    "\n",
    "from splinter import Browser\n",
    "from selenium import webdriver\n",
    "\n",
    "from TDLogin import TDusername, TDpassword, TDconsumerkey"
   ]
  },
  {
   "cell_type": "code",
   "execution_count": 12,
   "metadata": {},
   "outputs": [],
   "source": [
    "# Assign Working Directory\n",
    "sys.path.append(r'C:\\Users\\cinji\\Documents\\TD Ameritrade\\TD Websocket')\n",
    "sys.path.append(r'C:\\Users\\cinji\\AppData\\Local\\Programs\\Python\\Python37\\Lib\\site-packages')"
   ]
  },
  {
   "cell_type": "code",
   "execution_count": 3,
   "metadata": {},
   "outputs": [],
   "source": [
    "# Open Chrome Browser\n",
    "\n",
    "# Define path to Chrome Driver\n",
    "executable_path = {'executable_path':r'C:\\Users\\cinji\\Desktop\\chromedriver_win32\\chromedriver'}\n",
    "\n",
    "# Set some default browser behaviors\n",
    "options = webdriver.ChromeOptions()\n",
    "\n",
    "# Make sure the window is maximized\n",
    "options.add_argument(\"--start-maximized\")\n",
    "\n",
    "# Create a new browser object\n",
    "browser = Browser('chrome', **executable_path, headless = False, options = options)"
   ]
  },
  {
   "cell_type": "code",
   "execution_count": 4,
   "metadata": {},
   "outputs": [],
   "source": [
    "# Open TD Ameritrade App Developer Page\n",
    "\n",
    "# Define the URL components\n",
    "method = 'GET'\n",
    "url = 'https://auth.tdameritrade.com/auth?'\n",
    "client_id = TDconsumerkey + '@AMER.OAUTHAP'\n",
    "payload = {'response_type':'code', 'redirect_uri':'http://localhost', 'client_id':client_id}\n",
    "\n",
    "# Build URL\n",
    "completeURL = requests.Request(method, url, params = payload).prepare()\n",
    "completeURL = completeURL.url\n",
    "\n",
    "# Open Log-in page\n",
    "browser.visit(completeURL)\n",
    "\n",
    "# Defin the elements to pass through log-in form\n",
    "payload = {'username':TDusername, 'password':TDpassword}\n",
    "\n",
    "# Fill out each element in the log-in form\n",
    "browser.find_by_id(\"username\").first.fill(payload['username'])\n",
    "browser.find_by_id(\"password\").first.fill(payload['password'])\n",
    "browser.find_by_id(\"accept\").first.click()\n",
    "\n",
    "# Click to accept terms and conditions on Authorization page\n",
    "browser.find_by_id(\"accept\").first.click()\n",
    "\n",
    "# Provide page loading time\n",
    "time.sleep(1)\n",
    "newURL = browser.url"
   ]
  },
  {
   "cell_type": "code",
   "execution_count": 5,
   "metadata": {},
   "outputs": [],
   "source": [
    "# Get browser URL and parse it to obtain access token\n",
    "parseURL = urllib.parse.unquote(newURL.split('code=')[1])\n",
    "\n",
    "# Close browser\n",
    "browser.quit()"
   ]
  },
  {
   "cell_type": "code",
   "execution_count": 6,
   "metadata": {},
   "outputs": [],
   "source": [
    "# Authentication Endpoint\n",
    "# NOTE: This cell can ONLY BE DONE ONCE.  Otherwise, parseURL becomes invalid.\n",
    "\n",
    "# Define access token endpoint\n",
    "url = r'https://api.tdameritrade.com/v1/oauth2/token'\n",
    "\n",
    "# Define access token headers\n",
    "headers = {'Content-Type':\"application/x-www-form-urlencoded\"}\n",
    "\n",
    "# Define access token payload\n",
    "payload = {'grant_type':'authorization_code',\n",
    "           'access_type':'offline',\n",
    "           'code':parseURL,\n",
    "           'client_id':client_id,\n",
    "           'redirect_uri':'http://localhost'}\n",
    "\n",
    "# Post data to get access token\n",
    "authReply = requests.post(url, headers = headers, data = payload)\n",
    "\n",
    "# Convert JSON string to dictionary\n",
    "decodedURL = authReply.json()"
   ]
  },
  {
   "cell_type": "code",
   "execution_count": 7,
   "metadata": {},
   "outputs": [],
   "source": [
    "# Parse retrieved access token\n",
    "AccessToken = decodedURL['access_token']\n",
    "RefreshToken = decodedURL['refresh_token']\n",
    "headers = {'Authorization': \"Bearer {}\".format(AccessToken)}"
   ]
  },
  {
   "cell_type": "code",
   "execution_count": 8,
   "metadata": {},
   "outputs": [],
   "source": [
    "import datetime\n",
    "\n",
    "def unix_time_millis(dt):\n",
    "    epoch = datetime.datetime.utcfromtimestamp(0)\n",
    "    return (dt - epoch).total_seconds() * 1000.0"
   ]
  },
  {
   "cell_type": "code",
   "execution_count": 9,
   "metadata": {},
   "outputs": [],
   "source": [
    "# Define endpoint for User Principals\n",
    "endpoint = 'https://api.tdameritrade.com/v1/userprincipals'\n",
    "\n",
    "headers = {'Authorization':'Bearer {}'.format(AccessToken)}\n",
    "\n",
    "# Define endpoint parameters\n",
    "params = {'fields': 'streamerSubscriptionKeys,streamerConnectionInfo'}\n",
    "\n",
    "# Make a request\n",
    "content = requests.get(url = endpoint, params = params, headers = headers)\n",
    "userPrincipalsResponse = content.json()\n",
    "\n",
    "# Convert timestamp to milliseconds\n",
    "tokenTimeStamp = userPrincipalsResponse['streamerInfo']['tokenTimestamp']\n",
    "date = dateutil.parser.parse(tokenTimeStamp, ignoretz = True)\n",
    "tokenTimeStampAsMs = unix_time_millis(date)\n",
    "tokenTimeStampAsMs\n",
    "# tokenTimeStampAsMs\n",
    "\n",
    "# Define needed items in order to make Login request\n",
    "credentials = {'userid':userPrincipalsResponse['accounts'][0]['accountId'],\n",
    "               'token':userPrincipalsResponse['streamerInfo']['token'],\n",
    "               'company':userPrincipalsResponse['accounts'][0]['company'],\n",
    "               'segment':userPrincipalsResponse['accounts'][0]['segment'],\n",
    "               'cddomain':userPrincipalsResponse['accounts'][0]['accountCdDomainId'],\n",
    "               'usergroup':userPrincipalsResponse['streamerInfo']['userGroup'],\n",
    "               'accesslevel':userPrincipalsResponse['streamerInfo']['accessLevel'],\n",
    "               'authorized':\"Y\",\n",
    "               'timestamp':int(tokenTimeStampAsMs),\n",
    "               'appid':userPrincipalsResponse['streamerInfo']['appId'],\n",
    "               'acl':userPrincipalsResponse['streamerInfo']['acl']}"
   ]
  },
  {
   "cell_type": "code",
   "execution_count": 10,
   "metadata": {},
   "outputs": [
    {
     "data": {
      "text/plain": [
       "'{\"requests\": [{\"service\": \"ACTIVES_NASDAQ\", \"requestid\": \"1\", \"command\": \"SUBS\", \"account\": \"861370305\", \"source\": \"Cinji1218\", \"parameters\": {\"keys\": \"NASDAQ-60\", \"fields\": \"0,1\"}}, {\"service\": \"LEVELONE_FUTURES\", \"requestid\": \"2\", \"command\": \"SUBS\", \"account\": \"861370305\", \"source\": \"Cinji1218\", \"parameters\": {\"keys\": \"/ES\", \"fields\": \"0,1,2,3,4\"}}]}'"
      ]
     },
     "execution_count": 10,
     "metadata": {},
     "output_type": "execute_result"
    }
   ],
   "source": [
    "# Define login request\n",
    "login_request = {\"requests\": [{\"service\": \"ADMIN\",\n",
    "                               \"command\": \"LOGIN\",\n",
    "                               \"requested\": 0,\n",
    "                               \"account\": userPrincipalsResponse['accounts'][0]['accountId'],\n",
    "                               \"source\": userPrincipalsResponse['streamerInfo']['appId'],\n",
    "                               \"parameters\": {\"credential\": urllib.parse.urlencode(credentials),\n",
    "                                              \"token\": userPrincipalsResponse['streamerInfo']['token'],\n",
    "                                              \"version\": \"1.0\"}}]}\n",
    "\n",
    "# Define requests for different data sources\n",
    "data_request = {\"requests\": [\n",
    "    {\n",
    "        \"service\": \"ACTIVES_NASDAQ\",\n",
    "        \"requestid\": \"1\",\n",
    "        \"command\": \"SUBS\",\n",
    "        \"account\": userPrincipalsResponse['accounts'][0]['accountId'],\n",
    "        \"source\": userPrincipalsResponse['streamerInfo']['appId'],\n",
    "        \"parameters\": {\n",
    "            \"keys\": \"NASDAQ-60\",\n",
    "            \"fields\": \"0,1\"\n",
    "        }\n",
    "    },\n",
    "    {\n",
    "        \"service\": \"LEVELONE_FUTURES\",\n",
    "        \"requestid\": \"2\",\n",
    "        \"command\": \"SUBS\",\n",
    "        \"account\": userPrincipalsResponse['accounts'][0]['accountId'],\n",
    "        \"source\": userPrincipalsResponse['streamerInfo']['appId'],\n",
    "        \"parameters\": {\n",
    "            \"keys\": \"/ES\",\n",
    "            \"fields\": \"0,1,2,3,4\"\n",
    "        }\n",
    "    }\n",
    "]}\n",
    "\n",
    "# Turn requests into JSON String\n",
    "login_encoded = json.dumps(login_request)\n",
    "data_encoded = json.dumps(data_request)\n",
    "data_encoded"
   ]
  },
  {
   "cell_type": "code",
   "execution_count": 22,
   "metadata": {},
   "outputs": [],
   "source": [
    "import websockets\n",
    "import asyncio\n",
    "import pyodbc\n",
    "\n",
    "class WebSocketClient():\n",
    "    \n",
    "    def __init__(self):\n",
    "        self.cnxn = None\n",
    "        self.crsr = None\n",
    "        \n",
    "    def database_connect(self):\n",
    "        \n",
    "        # Define server and database\n",
    "        server = 'DESKTOP-O9QIKO1\\SQLEXPRESS'\n",
    "        database = 'TD Ameritrade Stock Database'\n",
    "        sql_driver = '{ODBC Driver 17 for SQL Server}'\n",
    "        \n",
    "        # Define database connection\n",
    "        self.cnxn = pyodbc.connect(driver = sql_driver,\n",
    "                                   server = server,\n",
    "                                   database = database,\n",
    "                                   trusted_connection = 'yes')\n",
    "        \n",
    "        self.crsr = self.cnxn.cursor()\n",
    "        \n",
    "    def database_insert(self, query, data_tuple):\n",
    "        \n",
    "        self.crsr.execute(query, data_tuple)\n",
    "        self.cnxn.commit()\n",
    "        self.cnxn.close()\n",
    "        print('Data has been successfully inserted into the database')\n",
    "        \n",
    "    async def connect(self):\n",
    "        \n",
    "        uri = \"wss://\" + userPrincipalsResponse['streamerInfo']['streamerSocketUrl'] + \"/ws\"\n",
    "        \n",
    "        self.connection = await websockets.client.connect(uri)\n",
    "        \n",
    "        if self.connection.open:\n",
    "            print(\"Connection established. Client correctly connected.\")\n",
    "            return self.connection\n",
    "        \n",
    "    async def sendMessage(self, message):\n",
    "        await self.connection.send(message)\n",
    "        \n",
    "    async def receiveMessage(self, connection):\n",
    "        \n",
    "        while True:\n",
    "            \n",
    "            try:\n",
    "                \n",
    "                # Decode message\n",
    "                message = await connection.recv()\n",
    "                message_decoded = json.loads(message)\n",
    "                \n",
    "                # Prepare data for insertion, connect to database\n",
    "                query = \"INSERT INTO  StockData (service, timestamp, command) VALUES (?,?,?);\"\n",
    "                self.database_connect()\n",
    "                \n",
    "                if 'data' in message_decoded.keys():\n",
    "                    \n",
    "                    # Grab data\n",
    "                    data = message_decoded['data'][0]\n",
    "                    data_tuple = (data['service'], data['timestamp'], data['command'])\n",
    "                    \n",
    "                    # Insert data\n",
    "                    self.database_insert(query, data_tuple)\n",
    "                    \n",
    "                print('-'*20)\n",
    "                print('Received message from server ' + str(message))\n",
    "                    \n",
    "            except websockets.exceptions.ConnectionClosed:\n",
    "                print('Connection with server closed')\n",
    "                break\n",
    "                    \n",
    "    async def heartbeat(self, connection):\n",
    "        \n",
    "        while True:\n",
    "            try:\n",
    "                await connection.send('ping')\n",
    "                await aysncio.sleep(5)\n",
    "                \n",
    "            except websockets.exceptions.ConnectionClosed:\n",
    "                print('Connection with server closed')\n",
    "                break"
   ]
  },
  {
   "cell_type": "code",
   "execution_count": 23,
   "metadata": {},
   "outputs": [
    {
     "name": "stdout",
     "output_type": "stream",
     "text": [
      "Connection established. Client correctly connected.\n"
     ]
    }
   ],
   "source": [
    "import nest_asyncio\n",
    "nest_asyncio.apply()\n",
    "\n",
    "if __name__ == '__main__':\n",
    "    \n",
    "    # Create client object\n",
    "    client = WebSocketClient()\n",
    "    \n",
    "    # Define event loop\n",
    "    loop = asyncio.get_event_loop()\n",
    "    \n",
    "    # Start a connection to the websocket\n",
    "    connection = loop.run_until_complete(client.connect())\n",
    "    \n",
    "    # Define tasks to run\n",
    "    tasks = [asyncio.ensure_future(client.receiveMessage(connection)),\n",
    "             asyncio.ensure_future(client.sendMessage(login_encoded)),\n",
    "             asyncio.ensure_future(client.receiveMessage(connection)),\n",
    "             asyncio.ensure_future(client.sendMessage(data_encoded)),\n",
    "             asyncio.ensure_future(client.receiveMessage(connection))]\n",
    "    \n",
    "    # Run tasks\n",
    "    loop.run_until_complete(asyncio.wait(tasks))"
   ]
  },
  {
   "cell_type": "code",
   "execution_count": 17,
   "metadata": {},
   "outputs": [
    {
     "data": {
      "text/plain": [
       "<__main__.WebSocketClient at 0x12b8fcc5b70>"
      ]
     },
     "execution_count": 17,
     "metadata": {},
     "output_type": "execute_result"
    }
   ],
   "source": [
    "client"
   ]
  },
  {
   "cell_type": "code",
   "execution_count": 18,
   "metadata": {},
   "outputs": [
    {
     "data": {
      "text/plain": [
       "<coroutine object WebSocketClient.connect at 0x0000012B8DFAB8C8>"
      ]
     },
     "execution_count": 18,
     "metadata": {},
     "output_type": "execute_result"
    }
   ],
   "source": [
    "client.connect()"
   ]
  },
  {
   "cell_type": "code",
   "execution_count": 19,
   "metadata": {},
   "outputs": [
    {
     "data": {
      "text/plain": [
       "<_WindowsSelectorEventLoop running=True closed=False debug=False>"
      ]
     },
     "execution_count": 19,
     "metadata": {},
     "output_type": "execute_result"
    }
   ],
   "source": [
    "loop"
   ]
  },
  {
   "cell_type": "code",
   "execution_count": 20,
   "metadata": {},
   "outputs": [
    {
     "name": "stdout",
     "output_type": "stream",
     "text": [
      "Connection established. Client correctly connected.\n"
     ]
    },
    {
     "data": {
      "text/plain": [
       "<websockets.client.WebSocketClientProtocol at 0x12b8fcd1d30>"
      ]
     },
     "execution_count": 20,
     "metadata": {},
     "output_type": "execute_result"
    }
   ],
   "source": [
    "loop.run_until_complete(client.connect())"
   ]
  },
  {
   "cell_type": "code",
   "execution_count": null,
   "metadata": {},
   "outputs": [],
   "source": []
  }
 ],
 "metadata": {
  "kernelspec": {
   "display_name": "Python 3",
   "language": "python",
   "name": "python3"
  },
  "language_info": {
   "codemirror_mode": {
    "name": "ipython",
    "version": 3
   },
   "file_extension": ".py",
   "mimetype": "text/x-python",
   "name": "python",
   "nbconvert_exporter": "python",
   "pygments_lexer": "ipython3",
   "version": "3.7.3"
  }
 },
 "nbformat": 4,
 "nbformat_minor": 4
}
