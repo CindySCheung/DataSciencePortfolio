{
 "cells": [
  {
   "cell_type": "code",
   "execution_count": 1,
   "metadata": {},
   "outputs": [],
   "source": [
    "# Import system functions\n",
    "import sys"
   ]
  },
  {
   "cell_type": "code",
   "execution_count": 2,
   "metadata": {},
   "outputs": [],
   "source": [
    "# Import web/browser navigators that enable remote automated control of web browser\n",
    "import time\n",
    "import urllib\n",
    "import requests\n",
    "from splinter import Browser\n",
    "from selenium import webdriver"
   ]
  },
  {
   "cell_type": "code",
   "execution_count": 3,
   "metadata": {},
   "outputs": [],
   "source": [
    "# Import authentication information\n",
    "from TDLogin import TDusername, TDpassword, TDconsumerkey"
   ]
  },
  {
   "cell_type": "code",
   "execution_count": 4,
   "metadata": {},
   "outputs": [],
   "source": [
    "# Import Token Information\n",
    "from Token import AccessToken, RefreshToken"
   ]
  },
  {
   "cell_type": "code",
   "execution_count": 5,
   "metadata": {},
   "outputs": [],
   "source": [
    "# Assign Working Directory\n",
    "sys.path.append(r'C:\\Users\\cinji\\Documents\\PythonAutoTrade')"
   ]
  },
  {
   "cell_type": "code",
   "execution_count": 6,
   "metadata": {},
   "outputs": [],
   "source": [
    "# Open Chrome Browser\n",
    "\n",
    "# Define path to Chrome Driver\n",
    "executable_path = {'executable_path':r'C:\\Users\\cinji\\Desktop\\chromedriver_win32\\chromedriver'}\n",
    "\n",
    "# Set some default browser behaviors\n",
    "options = webdriver.ChromeOptions()\n",
    "\n",
    "# Make sure the window is maximized\n",
    "options.add_argument(\"--start-maximized\")\n",
    "\n",
    "# Create a new browser object\n",
    "browser = Browser('chrome', **executable_path, headless = False, options = options)"
   ]
  },
  {
   "cell_type": "code",
   "execution_count": 7,
   "metadata": {},
   "outputs": [],
   "source": [
    "# Open TD Ameritrade App Developer Page\n",
    "\n",
    "# Define the URL components\n",
    "method = 'GET'\n",
    "url = 'https://auth.tdameritrade.com/auth?'\n",
    "client_id = TDconsumerkey + '@AMER.OAUTHAP'\n",
    "payload = {'response_type':'code', 'redirect_uri':'http://localhost', 'client_id':client_id}\n",
    "\n",
    "# Build URL\n",
    "completeURL = requests.Request(method, url, params = payload).prepare()\n",
    "completeURL = completeURL.url\n",
    "\n",
    "# Open Log-in page\n",
    "browser.visit(completeURL)\n",
    "\n",
    "# Defin the elements to pass through log-in form\n",
    "payload = {'username':TDusername, 'password':TDpassword}\n",
    "\n",
    "# Fill out each element in the log-in form\n",
    "browser.find_by_id(\"username\").first.fill(payload['username'])\n",
    "browser.find_by_id(\"password\").first.fill(payload['password'])\n",
    "browser.find_by_id(\"accept\").first.click()\n",
    "\n",
    "# Click to accept terms and conditions on Authorization page\n",
    "browser.find_by_id(\"accept\").first.click()\n",
    "\n",
    "# Provide page loading time\n",
    "time.sleep(1)\n",
    "newURL = browser.url"
   ]
  },
  {
   "cell_type": "code",
   "execution_count": 8,
   "metadata": {},
   "outputs": [],
   "source": [
    "# Get browser URL and parse it to obtain access token\n",
    "parseURL = urllib.parse.unquote(newURL.split('code=')[1])\n",
    "\n",
    "# Close browser\n",
    "browser.quit()"
   ]
  },
  {
   "cell_type": "code",
   "execution_count": 9,
   "metadata": {},
   "outputs": [],
   "source": [
    "# Authentication Endpoint\n",
    "# NOTE: This cell can ONLY BE DONE ONCE.  Otherwise, parseURL becomes invalid.\n",
    "\n",
    "# Define access token endpoint\n",
    "url = r'https://api.tdameritrade.com/v1/oauth2/token'\n",
    "\n",
    "# Define access token headers\n",
    "headers = {'Content-Type':\"application/x-www-form-urlencoded\"}\n",
    "\n",
    "# Define access token payload\n",
    "payload = {'grant_type':'authorization_code',\n",
    "           'access_type':'offline',\n",
    "           'code':parseURL,\n",
    "           'client_id':client_id,\n",
    "           'redirect_uri':'http://localhost'}\n",
    "\n",
    "# Post data to get access token\n",
    "authReply = requests.post(url, headers = headers, data = payload)\n",
    "\n",
    "# Convert JSON string to dictionary\n",
    "decodedURL = authReply.json()"
   ]
  },
  {
   "cell_type": "code",
   "execution_count": 10,
   "metadata": {},
   "outputs": [],
   "source": [
    "# Parse retrieved access token\n",
    "AccessToken = decodedURL['access_token']\n",
    "RefreshToken = decodedURL['refresh_token']\n",
    "headers = {'Authorization': \"Bearer {}\".format(AccessToken)}"
   ]
  },
  {
   "cell_type": "code",
   "execution_count": 11,
   "metadata": {},
   "outputs": [],
   "source": [
    "# Accounts Endpoint\n",
    "# Queries ALL Accounts\n",
    "\n",
    "# Define accounts endpoint\n",
    "endpoint = r\"https://api.tdameritrade.com/v1/accounts\"\n",
    "\n",
    "# Make request\n",
    "content = requests.get(url = endpoint, headers = headers)\n",
    "\n",
    "# Convert to dictionary object\n",
    "data = content.json()\n",
    "TDAccountID = data[0]['securitiesAccount']['accountId']"
   ]
  },
  {
   "cell_type": "code",
   "execution_count": 12,
   "metadata": {},
   "outputs": [],
   "source": [
    "# Single Account Endpoint\n",
    "# Queries ONE Account\n",
    "\n",
    "# Define accounts endpoint\n",
    "endpoint = r\"https://api.tdameritrade.com/v1/accounts/{}\".format(TDAccountID)\n",
    "\n",
    "# Make request\n",
    "content = requests.get(url = endpoint, headers = headers)\n",
    "\n",
    "# Convert to dictionary object\n",
    "data = content.json()"
   ]
  },
  {
   "cell_type": "code",
   "execution_count": 13,
   "metadata": {},
   "outputs": [
    {
     "data": {
      "text/plain": [
       "'861370305'"
      ]
     },
     "execution_count": 13,
     "metadata": {},
     "output_type": "execute_result"
    }
   ],
   "source": [
    "TDAccountID"
   ]
  },
  {
   "cell_type": "code",
   "execution_count": 14,
   "metadata": {},
   "outputs": [
    {
     "data": {
      "text/plain": [
       "400"
      ]
     },
     "execution_count": 14,
     "metadata": {},
     "output_type": "execute_result"
    }
   ],
   "source": [
    "# Orders for Trading\n",
    "\n",
    "# Create Saved Orders\n",
    "\n",
    "# Define headers\n",
    "header = {'Authorization':\"Bearer {}\".format(AccessToken),\n",
    "          'Content-Type':\"application/json\"}\n",
    "\n",
    "# Define the endpoint for saved orders, including AccountID\n",
    "endpoint = r\"https://api.tdameritrade.com/v1/accounts/{}/savedorders\".format(TDAccountID)\n",
    "\n",
    "# Define payload, in JSON format\n",
    "payload = {\n",
    "  \"orderType\": \"MARKET\",\n",
    "  \"session\": \"NORMAL\",\n",
    "  \"duration\": \"DAY\",\n",
    "  \"orderStrategyType\": \"SINGLE\",\n",
    "  \"orderLegCollection\": [\n",
    "    {\n",
    "      \"instruction\": \"Buy\",\n",
    "      \"quantity\": 1,\n",
    "      \"instrument\": {\n",
    "        \"symbol\": \"PINS\",\n",
    "        \"assetType\": \"EQUITY\"\n",
    "      }\n",
    "    }\n",
    "  ]\n",
    "}\n",
    "\n",
    "# Make post\n",
    "content = requests.post(url = endpoint, json = payload, headers = header)\n",
    "\n",
    "# Show status code, want 200\n",
    "content.status_code"
   ]
  },
  {
   "cell_type": "code",
   "execution_count": 15,
   "metadata": {},
   "outputs": [
    {
     "data": {
      "text/plain": [
       "400"
      ]
     },
     "execution_count": 15,
     "metadata": {},
     "output_type": "execute_result"
    }
   ],
   "source": [
    "# SAVED ORDERS ENDPOINT - POST\n",
    "\n",
    "# define our headers\n",
    "header = {'Authorization':\"Bearer {}\".format(AccessToken),\n",
    "          \"Content-Type\":\"application/json\"}\n",
    "\n",
    "# define the endpoint for Saved orders, including your account ID\n",
    "endpoint = r\"https://api.tdameritrade.com/v1/accounts/{}/savedorders\".format(TDAccountID)\n",
    "\n",
    "# define the payload, in JSON format\n",
    "payload = {'orderType':'MARKET',\n",
    "           'session':'NORMAL',\n",
    "           'duration':'DAY',\n",
    "           'orderStrategyType':'SINGLE',\n",
    "           'orderLegCollection':[{'instruction':'Buy','quantity':1,'instrument':{'symbol':'PINS','assetType':'EQUITY'}}]}\n",
    "\n",
    "\n",
    "# make a post, NOTE WE'VE CHANGED DATA TO JSON AND ARE USING POST\n",
    "content = requests.post(url = endpoint, json = payload, headers = header)\n",
    "\n",
    "# show the status code, we want 200\n",
    "content.status_code"
   ]
  },
  {
   "cell_type": "code",
   "execution_count": 16,
   "metadata": {},
   "outputs": [
    {
     "data": {
      "text/plain": [
       "{'access_token': 'mS6E2VdPfIF3HaRe4auisdZhV8NAzwAXt6M9/ruea8B4W5lr9pH+6IGNeSthThEHy3qe67wgNOMZRwf108+tT2BDXUx0LPcPr77JEjosd0OWf2YhpO2q9dMAayVD2xX+6UZXgm2RCxGFGnEdSXK/xXIYeBE+NNJIXfHwRBNjq2K6BiTCSUxUX69z/27Y6LWpNlz0iauJE8NCxptzg2lMGhxYr/OFZb18nzUg1y4EpMQrG7ifaFd4MPPFpjN6XEN1jMqARPN/LczgWlycs45gXxMQP4WaIBqhy07Zg2y7ad+qQnUaOd6ps5UPOxKB1VW+imNbtGRB7lUy3JtorFErE2WzJcBJL2NgFdkTrvt3yMhfTy08eHW2GXLU961FpU1ap5ak3CZfa7n/aRF9Op+zLmCEdvFULcVABiAcntD+IkoPbHfu5LLzlWeZTskym8z+VWvX/awUhfnWdejjAYZ7rt4lWDQLejioSoMKIJ98vCB8EhVKqnHkVvky9JlJy4RfK5CL8AuHQlfBuzZb46gpBVA8nxG100MQuG4LYrgoVi/JHHvlVUrtekEf4rjCLf7Vcz+1vx9Ov4/rSIsx1h5G6H/uAwAWZ6Bd5KAU3GMlTglj65j0W2BkvJMeC3wBMMauuR2Ghis8w2F2n5zuPhG0ivnoVBJBAO4GFpyQX3yCBYbkor5NU1VAFonbfMsKf3jUf6Aaoyp3zW/e7bbL81VsF3GzDdfoHc0nBJxytFz98Z27Ek7nnihGWomy/pXXbRqrPPeWESKfuFfP7g/QIt9UzcW9sdRL3qMsHOdSeXwvSF3eoAP9vRvJvSYC7uVD+fqUX3jFLEwzRAZmm+QZpCy8wUj1oQ8q2rCGXBTa+FgIkS2bY0EgaqQSqDQBEC5bgJyb9zAw5zOSkVY6DVesSRJIV8ZA0FzivYeMYKNKKzkxzAN06wXsdoz5p0HSOB0KUMJsoNfj0MqnFP0rnwkNhuDbBYq2EOB3oj6BZUX7a12fbZl+y9MsOrXHtRco1Vw2JYMnwf4oknCoD9gYOxswbRantZV2PBXsrb2XcWmOmSMkKyjIPFoIvKMz+R5/KRV8wqp7l4BtpYkQftk=212FD3x19z9sWBHDJACbC00B75E',\n",
       " 'refresh_token': '1xTPeimk4sJNopXHHpkiVNSIdH2gCg76sVg2q/bxiPuL+k8xPZgF9OGab9hBxusVfftn4F+d0hYZpsGjzag/GeLw5f4es/AGhuZiaYgxLDg8egD3f1Ij6tVb1coT85aDzKBEBBmhqvmQ4Ki7BWS57OdQVVpCE1bvSLxe5jpULZBSh/4Qw6fF3LT1muMcLYduzLv4meOIuS+fEDMQMCW5le8kITDY6XrFmSEPVbhzoYNGz7G6XHNWulbM6qIOKfhiI1IbU6965BS4BxbtpBHxRoo0ew5aGnW+jHsxXvHvV3OuZhksVBs2nFL8RHcpKu24Xh/FNld5dgXb0k1+Sdci/DumasCj6rIMJ4ApYXE1KzxzJOrHgcczR4IWcI/J+PLbbg9AwA4apa0g8EfmyWJwpQiH4iTte2syHFGYFfGZlR+tmjIrxewut/xxg56100MQuG4LYrgoVi/JHHvlqIJk1VxSFDVdf6c54JUWcj6DILI8Tve68fy4BBWS35FrfLxjYc0awuRrgwiOzFG6r/I4rSrlVAxLRsZnLwppwhlWQlvFZJ2v8MebR4c8OAuCd8D9HtFi5duiNC58cgSEMrUtvHWlURaPBtPdxAd1WWkkxZKvsoUAyCp/laYbp1kkvLMF+5IiDZYMy8JnIU9N84jWgTaR8sNojbnmH/NcCr/jzxqSpVo/razrenELDYKr3OXnSx8Z3vTdyTfjlhjS+AmWsopGDqw5QPUO8K/ZwTjUhsJm95jznkgmhOPojD0WtbS7ASM0AE2W7qs9YL/wN425EiK9Hgeu268m471yqLwm3V5834v6xJ2b9HejZ1LSvhLmYcKB/VwOOLZ8bcL8MDcv0MkIRnOxmRdRKvPTnWE+2LHgZSNbTAcOGHUgo5JTn9Ko/67AaPyG0b8=212FD3x19z9sWBHDJACbC00B75E',\n",
       " 'expires_in': 1800,\n",
       " 'refresh_token_expires_in': 7776000,\n",
       " 'token_type': 'Bearer'}"
      ]
     },
     "execution_count": 16,
     "metadata": {},
     "output_type": "execute_result"
    }
   ],
   "source": [
    "# Refresh Access Token\n",
    "\n",
    "# Define access token endpoint\n",
    "url = r'https://api.tdameritrade.com/v1/oauth2/token'\n",
    "\n",
    "# Define access token headers\n",
    "headers = {'Content-Type':\"application/x-www-form-urlencoded\"}\n",
    "\n",
    "# Define access token payload\n",
    "payload = {'grant_type':'refresh_token',\n",
    "           'refresh_token':RefreshToken,\n",
    "           'access_type':'offline',\n",
    "           'code':AccessToken,\n",
    "           'client_id':client_id,\n",
    "           'redirect_uri':'http://localhost'}\n",
    "\n",
    "# Post data to get access token\n",
    "authReply = requests.post(url, headers = headers, data = payload)\n",
    "\n",
    "# Convert JSON string to dictionary\n",
    "decodedURL = authReply.json()\n",
    "decodedURL"
   ]
  },
  {
   "cell_type": "code",
   "execution_count": null,
   "metadata": {},
   "outputs": [],
   "source": []
  },
  {
   "cell_type": "code",
   "execution_count": null,
   "metadata": {},
   "outputs": [],
   "source": []
  }
 ],
 "metadata": {
  "kernelspec": {
   "display_name": "Python 3",
   "language": "python",
   "name": "python3"
  },
  "language_info": {
   "codemirror_mode": {
    "name": "ipython",
    "version": 3
   },
   "file_extension": ".py",
   "mimetype": "text/x-python",
   "name": "python",
   "nbconvert_exporter": "python",
   "pygments_lexer": "ipython3",
   "version": "3.7.3"
  }
 },
 "nbformat": 4,
 "nbformat_minor": 4
}
